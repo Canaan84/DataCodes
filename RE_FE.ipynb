{
 "cells": [
  {
   "cell_type": "code",
   "execution_count": 2,
   "id": "ed827f8a-7b13-4628-a78e-82a14da64619",
   "metadata": {},
   "outputs": [],
   "source": [
    "import numpy as np\n",
    "import pandas as pd\n",
    "import statsmodels.api as sm\n",
    "from statsmodels.iolib.summary2 import summary_col \n",
    "from linearmodels import RandomEffects\n",
    "from linearmodels import PanelOLS\n",
    "import scipy as sp"
   ]
  },
  {
   "cell_type": "markdown",
   "id": "a55b54b0-715c-4891-9576-b1011b255b69",
   "metadata": {},
   "source": [
    "## Problem 1"
   ]
  },
  {
   "cell_type": "code",
   "execution_count": 3,
   "id": "a67d346d-0018-4910-aae5-4c0f420e2c95",
   "metadata": {},
   "outputs": [
    {
     "data": {
      "text/html": [
       "<div>\n",
       "<style scoped>\n",
       "    .dataframe tbody tr th:only-of-type {\n",
       "        vertical-align: middle;\n",
       "    }\n",
       "\n",
       "    .dataframe tbody tr th {\n",
       "        vertical-align: top;\n",
       "    }\n",
       "\n",
       "    .dataframe thead th {\n",
       "        text-align: right;\n",
       "    }\n",
       "</style>\n",
       "<table border=\"1\" class=\"dataframe\">\n",
       "  <thead>\n",
       "    <tr style=\"text-align: right;\">\n",
       "      <th></th>\n",
       "      <th>year</th>\n",
       "      <th>fcode</th>\n",
       "      <th>employ</th>\n",
       "      <th>sales</th>\n",
       "      <th>avgsal</th>\n",
       "      <th>scrap</th>\n",
       "      <th>rework</th>\n",
       "      <th>tothrs</th>\n",
       "      <th>union</th>\n",
       "      <th>grant</th>\n",
       "      <th>...</th>\n",
       "      <th>grant_1</th>\n",
       "      <th>clscrap</th>\n",
       "      <th>cgrant</th>\n",
       "      <th>clemploy</th>\n",
       "      <th>clsales</th>\n",
       "      <th>lavgsal</th>\n",
       "      <th>clavgsal</th>\n",
       "      <th>cgrant_1</th>\n",
       "      <th>chrsemp</th>\n",
       "      <th>clhrsemp</th>\n",
       "    </tr>\n",
       "  </thead>\n",
       "  <tbody>\n",
       "    <tr>\n",
       "      <th>0</th>\n",
       "      <td>1987</td>\n",
       "      <td>410032.0</td>\n",
       "      <td>100.0</td>\n",
       "      <td>47000000.0</td>\n",
       "      <td>35000.0</td>\n",
       "      <td>NaN</td>\n",
       "      <td>NaN</td>\n",
       "      <td>12.0</td>\n",
       "      <td>0</td>\n",
       "      <td>0</td>\n",
       "      <td>...</td>\n",
       "      <td>0</td>\n",
       "      <td>NaN</td>\n",
       "      <td>0</td>\n",
       "      <td>NaN</td>\n",
       "      <td>NaN</td>\n",
       "      <td>10.463103</td>\n",
       "      <td>NaN</td>\n",
       "      <td>NaN</td>\n",
       "      <td>NaN</td>\n",
       "      <td>NaN</td>\n",
       "    </tr>\n",
       "    <tr>\n",
       "      <th>1</th>\n",
       "      <td>1988</td>\n",
       "      <td>410032.0</td>\n",
       "      <td>131.0</td>\n",
       "      <td>43000000.0</td>\n",
       "      <td>37000.0</td>\n",
       "      <td>NaN</td>\n",
       "      <td>NaN</td>\n",
       "      <td>8.0</td>\n",
       "      <td>0</td>\n",
       "      <td>0</td>\n",
       "      <td>...</td>\n",
       "      <td>0</td>\n",
       "      <td>NaN</td>\n",
       "      <td>0</td>\n",
       "      <td>0.270027</td>\n",
       "      <td>-0.088949</td>\n",
       "      <td>10.518673</td>\n",
       "      <td>0.055570</td>\n",
       "      <td>0.0</td>\n",
       "      <td>-8.946565</td>\n",
       "      <td>-1.165385</td>\n",
       "    </tr>\n",
       "    <tr>\n",
       "      <th>2</th>\n",
       "      <td>1989</td>\n",
       "      <td>410032.0</td>\n",
       "      <td>123.0</td>\n",
       "      <td>49000000.0</td>\n",
       "      <td>39000.0</td>\n",
       "      <td>NaN</td>\n",
       "      <td>NaN</td>\n",
       "      <td>8.0</td>\n",
       "      <td>0</td>\n",
       "      <td>0</td>\n",
       "      <td>...</td>\n",
       "      <td>0</td>\n",
       "      <td>NaN</td>\n",
       "      <td>0</td>\n",
       "      <td>-0.063013</td>\n",
       "      <td>0.130621</td>\n",
       "      <td>10.571317</td>\n",
       "      <td>0.052644</td>\n",
       "      <td>0.0</td>\n",
       "      <td>0.198597</td>\n",
       "      <td>0.047832</td>\n",
       "    </tr>\n",
       "    <tr>\n",
       "      <th>3</th>\n",
       "      <td>1987</td>\n",
       "      <td>410440.0</td>\n",
       "      <td>12.0</td>\n",
       "      <td>1560000.0</td>\n",
       "      <td>10500.0</td>\n",
       "      <td>NaN</td>\n",
       "      <td>NaN</td>\n",
       "      <td>12.0</td>\n",
       "      <td>0</td>\n",
       "      <td>0</td>\n",
       "      <td>...</td>\n",
       "      <td>0</td>\n",
       "      <td>NaN</td>\n",
       "      <td>0</td>\n",
       "      <td>NaN</td>\n",
       "      <td>NaN</td>\n",
       "      <td>9.259130</td>\n",
       "      <td>NaN</td>\n",
       "      <td>NaN</td>\n",
       "      <td>NaN</td>\n",
       "      <td>NaN</td>\n",
       "    </tr>\n",
       "    <tr>\n",
       "      <th>4</th>\n",
       "      <td>1988</td>\n",
       "      <td>410440.0</td>\n",
       "      <td>13.0</td>\n",
       "      <td>1970000.0</td>\n",
       "      <td>11000.0</td>\n",
       "      <td>NaN</td>\n",
       "      <td>NaN</td>\n",
       "      <td>12.0</td>\n",
       "      <td>0</td>\n",
       "      <td>0</td>\n",
       "      <td>...</td>\n",
       "      <td>0</td>\n",
       "      <td>NaN</td>\n",
       "      <td>0</td>\n",
       "      <td>0.080043</td>\n",
       "      <td>0.233347</td>\n",
       "      <td>9.305651</td>\n",
       "      <td>0.046520</td>\n",
       "      <td>0.0</td>\n",
       "      <td>0.000000</td>\n",
       "      <td>0.000000</td>\n",
       "    </tr>\n",
       "  </tbody>\n",
       "</table>\n",
       "<p>5 rows × 30 columns</p>\n",
       "</div>"
      ],
      "text/plain": [
       "   year     fcode  employ       sales   avgsal  scrap  rework  tothrs  union  \\\n",
       "0  1987  410032.0   100.0  47000000.0  35000.0    NaN     NaN    12.0      0   \n",
       "1  1988  410032.0   131.0  43000000.0  37000.0    NaN     NaN     8.0      0   \n",
       "2  1989  410032.0   123.0  49000000.0  39000.0    NaN     NaN     8.0      0   \n",
       "3  1987  410440.0    12.0   1560000.0  10500.0    NaN     NaN    12.0      0   \n",
       "4  1988  410440.0    13.0   1970000.0  11000.0    NaN     NaN    12.0      0   \n",
       "\n",
       "   grant  ...  grant_1  clscrap  cgrant  clemploy   clsales    lavgsal  \\\n",
       "0      0  ...        0      NaN       0       NaN       NaN  10.463103   \n",
       "1      0  ...        0      NaN       0  0.270027 -0.088949  10.518673   \n",
       "2      0  ...        0      NaN       0 -0.063013  0.130621  10.571317   \n",
       "3      0  ...        0      NaN       0       NaN       NaN   9.259130   \n",
       "4      0  ...        0      NaN       0  0.080043  0.233347   9.305651   \n",
       "\n",
       "   clavgsal  cgrant_1   chrsemp  clhrsemp  \n",
       "0       NaN       NaN       NaN       NaN  \n",
       "1  0.055570       0.0 -8.946565 -1.165385  \n",
       "2  0.052644       0.0  0.198597  0.047832  \n",
       "3       NaN       NaN       NaN       NaN  \n",
       "4  0.046520       0.0  0.000000  0.000000  \n",
       "\n",
       "[5 rows x 30 columns]"
      ]
     },
     "execution_count": 3,
     "metadata": {},
     "output_type": "execute_result"
    }
   ],
   "source": [
    "df = pd.read_stata(\"jtrain.dta\")\n",
    "df.head()"
   ]
  },
  {
   "cell_type": "code",
   "execution_count": 4,
   "id": "62c93036-7ea2-4c88-916b-14b7ac9c6c65",
   "metadata": {},
   "outputs": [
    {
     "name": "stdout",
     "output_type": "stream",
     "text": [
      "<class 'pandas.core.frame.DataFrame'>\n",
      "Int64Index: 471 entries, 0 to 470\n",
      "Data columns (total 30 columns):\n",
      " #   Column    Non-Null Count  Dtype  \n",
      "---  ------    --------------  -----  \n",
      " 0   year      471 non-null    int16  \n",
      " 1   fcode     471 non-null    float32\n",
      " 2   employ    440 non-null    float64\n",
      " 3   sales     373 non-null    float32\n",
      " 4   avgsal    406 non-null    float32\n",
      " 5   scrap     162 non-null    float32\n",
      " 6   rework    123 non-null    float32\n",
      " 7   tothrs    415 non-null    float64\n",
      " 8   union     471 non-null    int8   \n",
      " 9   grant     471 non-null    int8   \n",
      " 10  d89       471 non-null    int8   \n",
      " 11  d88       471 non-null    int8   \n",
      " 12  totrain   465 non-null    float64\n",
      " 13  hrsemp    390 non-null    float32\n",
      " 14  lscrap    162 non-null    float32\n",
      " 15  lemploy   440 non-null    float32\n",
      " 16  lsales    373 non-null    float32\n",
      " 17  lrework   121 non-null    float32\n",
      " 18  lhrsemp   390 non-null    float32\n",
      " 19  lscrap_1  108 non-null    float32\n",
      " 20  grant_1   471 non-null    int8   \n",
      " 21  clscrap   108 non-null    float32\n",
      " 22  cgrant    471 non-null    int8   \n",
      " 23  clemploy  290 non-null    float32\n",
      " 24  clsales   245 non-null    float32\n",
      " 25  lavgsal   406 non-null    float32\n",
      " 26  clavgsal  267 non-null    float32\n",
      " 27  cgrant_1  314 non-null    float64\n",
      " 28  chrsemp   251 non-null    float32\n",
      " 29  clhrsemp  251 non-null    float32\n",
      "dtypes: float32(19), float64(4), int16(1), int8(6)\n",
      "memory usage: 57.0 KB\n"
     ]
    }
   ],
   "source": [
    "df.info()"
   ]
  },
  {
   "cell_type": "markdown",
   "id": "72d0ddfb-f3b9-4aeb-a8de-535f978622d2",
   "metadata": {},
   "source": [
    "## (a)"
   ]
  },
  {
   "cell_type": "code",
   "execution_count": 5,
   "id": "941c0ed8-90cb-4843-b802-1fe5b88f31d4",
   "metadata": {},
   "outputs": [
    {
     "name": "stdout",
     "output_type": "stream",
     "text": [
      "<class 'pandas.core.frame.DataFrame'>\n",
      "Int64Index: 372 entries, 0 to 470\n",
      "Data columns (total 7 columns):\n",
      " #   Column   Non-Null Count  Dtype  \n",
      "---  ------   --------------  -----  \n",
      " 0   fcode    372 non-null    float32\n",
      " 1   hrsemp   372 non-null    float32\n",
      " 2   d88      372 non-null    int8   \n",
      " 3   d89      372 non-null    int8   \n",
      " 4   lemploy  372 non-null    float32\n",
      " 5   grant    372 non-null    int8   \n",
      " 6   grant_1  372 non-null    int8   \n",
      "dtypes: float32(3), int8(4)\n",
      "memory usage: 8.7 KB\n"
     ]
    }
   ],
   "source": [
    "df1 = df[[\"fcode\", \"hrsemp\", \"d88\", \"d89\", \"lemploy\", \"grant\", \"grant_1\"]]\n",
    "df1 = df1.dropna()\n",
    "\n",
    "## Drop the firms if they don't have data for all three time periods \n",
    "df1 = df1.groupby(\"fcode\").filter(lambda x: len(x)==3)\n",
    "df1.info()"
   ]
  },
  {
   "cell_type": "code",
   "execution_count": 6,
   "id": "d6da307c-dbe2-42ed-acea-cf41d490a0a5",
   "metadata": {},
   "outputs": [],
   "source": [
    "## Compute the first difference\n",
    "df1_diff = df1.groupby(\"fcode\").diff(1).dropna()\n",
    "df1_diff[\"const\"] = 1"
   ]
  },
  {
   "cell_type": "code",
   "execution_count": 7,
   "id": "7a0507e9-45b7-4b77-b23c-2b37e08dc800",
   "metadata": {},
   "outputs": [
    {
     "name": "stdout",
     "output_type": "stream",
     "text": [
      "                            OLS Regression Results                            \n",
      "==============================================================================\n",
      "Dep. Variable:                 hrsemp   R-squared:                       0.476\n",
      "Model:                            OLS   Adj. R-squared:                  0.467\n",
      "Method:                 Least Squares   F-statistic:                     55.17\n",
      "Date:                Sun, 27 Mar 2022   Prob (F-statistic):           4.75e-33\n",
      "Time:                        17:12:07   Log-Likelihood:                -1086.1\n",
      "No. Observations:                 248   AIC:                             2182.\n",
      "Df Residuals:                     243   BIC:                             2200.\n",
      "Df Model:                           4                                         \n",
      "Covariance Type:            nonrobust                                         \n",
      "==============================================================================\n",
      "                 coef    std err          t      P>|t|      [0.025      0.975]\n",
      "------------------------------------------------------------------------------\n",
      "const         -0.5910      1.956     -0.302      0.763      -4.445       3.263\n",
      "d89            5.2673      2.681      1.965      0.051      -0.014      10.548\n",
      "lemploy        1.0706      4.898      0.219      0.827      -8.578      10.719\n",
      "grant         32.4834      2.989     10.868      0.000      26.596      38.371\n",
      "grant_1        1.8679      5.606      0.333      0.739      -9.174      12.910\n",
      "==============================================================================\n",
      "Omnibus:                      126.235   Durbin-Watson:                   2.384\n",
      "Prob(Omnibus):                  0.000   Jarque-Bera (JB):             1505.624\n",
      "Skew:                           1.695   Prob(JB):                         0.00\n",
      "Kurtosis:                      14.585   Cond. No.                         5.72\n",
      "==============================================================================\n",
      "\n",
      "Notes:\n",
      "[1] Standard Errors assume that the covariance matrix of the errors is correctly specified.\n"
     ]
    }
   ],
   "source": [
    "## Run the first-difference OLS regression\n",
    "\n",
    "exog_var = [\"const\", \"d89\", \"lemploy\", \"grant\", \"grant_1\"]\n",
    "\n",
    "result1 = sm.OLS(df1_diff[\"hrsemp\"], df1_diff[exog_var]).fit() \n",
    "print(result1.summary())"
   ]
  },
  {
   "cell_type": "markdown",
   "id": "fd4f08c7-f950-4cdd-a559-fffc2fe4276f",
   "metadata": {},
   "source": [
    "### [ANS] "
   ]
  },
  {
   "cell_type": "markdown",
   "id": "73bc6879-efec-47ac-9966-b8e4f6cec83f",
   "metadata": {},
   "source": [
    "There are 124 firms used in the estimation. We use 372 observations for all three time periods."
   ]
  },
  {
   "cell_type": "markdown",
   "id": "947b4f29-be0a-4852-8ece-cff3eee9bdc1",
   "metadata": {},
   "source": [
    "## (b)"
   ]
  },
  {
   "cell_type": "markdown",
   "id": "293c0a73-2da0-48e6-9d3d-7310f417b567",
   "metadata": {},
   "source": [
    " The coefficient of $Grant_{-1}$ is $32.4834$ and its p-value us $0.000$, which shows that it is significant.\n",
    "Intuitively, the more grants firms receive, the more they train their employees. "
   ]
  },
  {
   "cell_type": "markdown",
   "id": "f49abe7a-8a79-4328-97cd-e37672a5a177",
   "metadata": {},
   "source": [
    "## (c)"
   ]
  },
  {
   "cell_type": "markdown",
   "id": "bfb63dd0-95fd-4528-be7c-d353905c51d1",
   "metadata": {
    "tags": []
   },
   "source": [
    "Yes. Practically, we may believe that the job training grants can have a long-term effect on the job training per employee. \n",
    "However, it cannot be supported by the dataset."
   ]
  },
  {
   "cell_type": "markdown",
   "id": "f30f03f2-6242-47d3-a119-dd1a2e43f05d",
   "metadata": {
    "tags": []
   },
   "source": [
    "## (d)"
   ]
  },
  {
   "cell_type": "markdown",
   "id": "9c88d7a5-02ed-4d44-b0b4-071dac207a89",
   "metadata": {},
   "source": [
    "Large firms trains their employees more.  On average, one percent increase in employees leads to $1.0706$ increases in hours per employee. \n",
    "Notice that this coefficient is insignificant."
   ]
  },
  {
   "cell_type": "markdown",
   "id": "9e3f82fc-21c3-48d8-ad8f-0165e9138c3e",
   "metadata": {},
   "source": [
    "## Problem 2"
   ]
  },
  {
   "cell_type": "markdown",
   "id": "078ec8b7-9f48-40f6-b060-bf90c36b8917",
   "metadata": {},
   "source": [
    "## (a)"
   ]
  },
  {
   "cell_type": "code",
   "execution_count": 8,
   "id": "e94c3d38-9e05-493a-8920-495f7501fd25",
   "metadata": {},
   "outputs": [
    {
     "data": {
      "text/html": [
       "<div>\n",
       "<style scoped>\n",
       "    .dataframe tbody tr th:only-of-type {\n",
       "        vertical-align: middle;\n",
       "    }\n",
       "\n",
       "    .dataframe tbody tr th {\n",
       "        vertical-align: top;\n",
       "    }\n",
       "\n",
       "    .dataframe thead th {\n",
       "        text-align: right;\n",
       "    }\n",
       "</style>\n",
       "<table border=\"1\" class=\"dataframe\">\n",
       "  <thead>\n",
       "    <tr style=\"text-align: right;\">\n",
       "      <th></th>\n",
       "      <th>id</th>\n",
       "      <th>state</th>\n",
       "      <th>year</th>\n",
       "      <th>mrdrte</th>\n",
       "      <th>exec</th>\n",
       "      <th>unem</th>\n",
       "      <th>d90</th>\n",
       "      <th>d93</th>\n",
       "      <th>cmrdrte</th>\n",
       "      <th>cexec</th>\n",
       "      <th>cunem</th>\n",
       "      <th>cexec_1</th>\n",
       "      <th>cunem_1</th>\n",
       "    </tr>\n",
       "  </thead>\n",
       "  <tbody>\n",
       "    <tr>\n",
       "      <th>0</th>\n",
       "      <td>1</td>\n",
       "      <td>AL</td>\n",
       "      <td>87</td>\n",
       "      <td>9.3</td>\n",
       "      <td>2</td>\n",
       "      <td>7.8</td>\n",
       "      <td>0</td>\n",
       "      <td>0</td>\n",
       "      <td>NaN</td>\n",
       "      <td>NaN</td>\n",
       "      <td>NaN</td>\n",
       "      <td>NaN</td>\n",
       "      <td>NaN</td>\n",
       "    </tr>\n",
       "    <tr>\n",
       "      <th>1</th>\n",
       "      <td>1</td>\n",
       "      <td>AL</td>\n",
       "      <td>90</td>\n",
       "      <td>11.6</td>\n",
       "      <td>5</td>\n",
       "      <td>6.8</td>\n",
       "      <td>1</td>\n",
       "      <td>0</td>\n",
       "      <td>2.3</td>\n",
       "      <td>3.0</td>\n",
       "      <td>-1.0</td>\n",
       "      <td>NaN</td>\n",
       "      <td>NaN</td>\n",
       "    </tr>\n",
       "    <tr>\n",
       "      <th>2</th>\n",
       "      <td>1</td>\n",
       "      <td>AL</td>\n",
       "      <td>93</td>\n",
       "      <td>11.6</td>\n",
       "      <td>2</td>\n",
       "      <td>7.5</td>\n",
       "      <td>0</td>\n",
       "      <td>1</td>\n",
       "      <td>0.0</td>\n",
       "      <td>-3.0</td>\n",
       "      <td>0.7</td>\n",
       "      <td>3.0</td>\n",
       "      <td>-1.0</td>\n",
       "    </tr>\n",
       "    <tr>\n",
       "      <th>3</th>\n",
       "      <td>2</td>\n",
       "      <td>AK</td>\n",
       "      <td>87</td>\n",
       "      <td>10.1</td>\n",
       "      <td>0</td>\n",
       "      <td>10.8</td>\n",
       "      <td>0</td>\n",
       "      <td>0</td>\n",
       "      <td>NaN</td>\n",
       "      <td>NaN</td>\n",
       "      <td>NaN</td>\n",
       "      <td>NaN</td>\n",
       "      <td>NaN</td>\n",
       "    </tr>\n",
       "    <tr>\n",
       "      <th>4</th>\n",
       "      <td>2</td>\n",
       "      <td>AK</td>\n",
       "      <td>90</td>\n",
       "      <td>7.5</td>\n",
       "      <td>0</td>\n",
       "      <td>6.9</td>\n",
       "      <td>1</td>\n",
       "      <td>0</td>\n",
       "      <td>-2.6</td>\n",
       "      <td>0.0</td>\n",
       "      <td>-3.9</td>\n",
       "      <td>NaN</td>\n",
       "      <td>NaN</td>\n",
       "    </tr>\n",
       "  </tbody>\n",
       "</table>\n",
       "</div>"
      ],
      "text/plain": [
       "   id state  year  mrdrte  exec  unem  d90  d93  cmrdrte  cexec  cunem  \\\n",
       "0   1    AL    87     9.3     2   7.8    0    0      NaN    NaN    NaN   \n",
       "1   1    AL    90    11.6     5   6.8    1    0      2.3    3.0   -1.0   \n",
       "2   1    AL    93    11.6     2   7.5    0    1      0.0   -3.0    0.7   \n",
       "3   2    AK    87    10.1     0  10.8    0    0      NaN    NaN    NaN   \n",
       "4   2    AK    90     7.5     0   6.9    1    0     -2.6    0.0   -3.9   \n",
       "\n",
       "   cexec_1  cunem_1  \n",
       "0      NaN      NaN  \n",
       "1      NaN      NaN  \n",
       "2      3.0     -1.0  \n",
       "3      NaN      NaN  \n",
       "4      NaN      NaN  "
      ]
     },
     "execution_count": 8,
     "metadata": {},
     "output_type": "execute_result"
    }
   ],
   "source": [
    "df = pd.read_stata(\"murder.dta\")\n",
    "df.head()"
   ]
  },
  {
   "cell_type": "code",
   "execution_count": 9,
   "id": "c6eff406-cf5f-4023-a66e-5f0347e58126",
   "metadata": {},
   "outputs": [
    {
     "name": "stdout",
     "output_type": "stream",
     "text": [
      "<class 'pandas.core.frame.DataFrame'>\n",
      "Int64Index: 153 entries, 0 to 152\n",
      "Data columns (total 13 columns):\n",
      " #   Column   Non-Null Count  Dtype  \n",
      "---  ------   --------------  -----  \n",
      " 0   id       153 non-null    int8   \n",
      " 1   state    153 non-null    object \n",
      " 2   year     153 non-null    int8   \n",
      " 3   mrdrte   153 non-null    float32\n",
      " 4   exec     153 non-null    int8   \n",
      " 5   unem     153 non-null    float32\n",
      " 6   d90      153 non-null    int8   \n",
      " 7   d93      153 non-null    int8   \n",
      " 8   cmrdrte  102 non-null    float32\n",
      " 9   cexec    102 non-null    float64\n",
      " 10  cunem    102 non-null    float32\n",
      " 11  cexec_1  51 non-null     float64\n",
      " 12  cunem_1  51 non-null     float32\n",
      "dtypes: float32(5), float64(2), int8(5), object(1)\n",
      "memory usage: 8.5+ KB\n"
     ]
    }
   ],
   "source": [
    "df.info()"
   ]
  },
  {
   "cell_type": "code",
   "execution_count": 10,
   "id": "ffc83d5c-6d94-4fc1-adfa-60641f76fa59",
   "metadata": {},
   "outputs": [
    {
     "name": "stdout",
     "output_type": "stream",
     "text": [
      "<class 'pandas.core.frame.DataFrame'>\n",
      "Int64Index: 153 entries, 0 to 152\n",
      "Data columns (total 6 columns):\n",
      " #   Column  Non-Null Count  Dtype  \n",
      "---  ------  --------------  -----  \n",
      " 0   id      153 non-null    int8   \n",
      " 1   mrdrte  153 non-null    float32\n",
      " 2   d90     153 non-null    int8   \n",
      " 3   d93     153 non-null    int8   \n",
      " 4   exec    153 non-null    int8   \n",
      " 5   unem    153 non-null    float32\n",
      "dtypes: float32(2), int8(4)\n",
      "memory usage: 3.0 KB\n"
     ]
    }
   ],
   "source": [
    "df2 = df[[\"id\", \"mrdrte\", \"d90\", \"d93\", \"exec\", \"unem\"]]\n",
    "df2 = df2.dropna()\n",
    "df2.info()"
   ]
  },
  {
   "cell_type": "code",
   "execution_count": 11,
   "id": "de8206b8-c684-4256-ab44-d317cb08d0a0",
   "metadata": {},
   "outputs": [
    {
     "name": "stdout",
     "output_type": "stream",
     "text": [
      "                            OLS Regression Results                            \n",
      "==============================================================================\n",
      "Dep. Variable:                 mrdrte   R-squared:                       0.076\n",
      "Model:                            OLS   Adj. R-squared:                  0.051\n",
      "Method:                 Least Squares   F-statistic:                     3.047\n",
      "Date:                Sun, 27 Mar 2022   Prob (F-statistic):             0.0190\n",
      "Time:                        17:12:08   Log-Likelihood:                -549.96\n",
      "No. Observations:                 153   AIC:                             1110.\n",
      "Df Residuals:                     148   BIC:                             1125.\n",
      "Df Model:                           4                                         \n",
      "Covariance Type:            nonrobust                                         \n",
      "==============================================================================\n",
      "                 coef    std err          t      P>|t|      [0.025      0.975]\n",
      "------------------------------------------------------------------------------\n",
      "const         -1.8644      3.070     -0.607      0.545      -7.930       4.201\n",
      "d90            2.6753      1.817      1.472      0.143      -0.915       6.266\n",
      "d93            1.6073      1.775      0.906      0.367      -1.900       5.114\n",
      "exec           0.1628      0.194      0.839      0.403      -0.220       0.546\n",
      "unem           1.3908      0.451      3.085      0.002       0.500       2.282\n",
      "==============================================================================\n",
      "Omnibus:                      220.139   Durbin-Watson:                   0.698\n",
      "Prob(Omnibus):                  0.000   Jarque-Bera (JB):            12528.591\n",
      "Skew:                           6.053   Prob(JB):                         0.00\n",
      "Kurtosis:                      45.647   Cond. No.                         29.9\n",
      "==============================================================================\n",
      "\n",
      "Notes:\n",
      "[1] Standard Errors assume that the covariance matrix of the errors is correctly specified.\n"
     ]
    }
   ],
   "source": [
    "df2[\"const\"] = 1\n",
    "\n",
    "## Run Pooled OLS regression\n",
    "result2 = sm.OLS(df2[\"mrdrte\"],\n",
    "                   df2[[\"const\", \"d90\", \"d93\", \"exec\", \"unem\"]]).fit() \n",
    "print(result2.summary())"
   ]
  },
  {
   "cell_type": "markdown",
   "id": "5f892af3-f149-4a45-a0c2-32b051338bec",
   "metadata": {},
   "source": [
    "## (b)"
   ]
  },
  {
   "cell_type": "code",
   "execution_count": 12,
   "id": "af4b4c95-af31-4ca8-b697-fefc39701ff7",
   "metadata": {},
   "outputs": [
    {
     "name": "stdout",
     "output_type": "stream",
     "text": [
      "<class 'pandas.core.frame.DataFrame'>\n",
      "Int64Index: 102 entries, 1 to 152\n",
      "Data columns (total 6 columns):\n",
      " #   Column  Non-Null Count  Dtype  \n",
      "---  ------  --------------  -----  \n",
      " 0   mrdrte  102 non-null    float32\n",
      " 1   d90     102 non-null    float32\n",
      " 2   d93     102 non-null    float32\n",
      " 3   exec    102 non-null    float32\n",
      " 4   unem    102 non-null    float32\n",
      " 5   const   102 non-null    int64  \n",
      "dtypes: float32(5), int64(1)\n",
      "memory usage: 3.6 KB\n"
     ]
    }
   ],
   "source": [
    "## Compute the first difference\n",
    "df2_diff = df2.groupby(\"id\").diff(1).dropna()\n",
    "df2_diff[\"const\"] = 1\n",
    "df2_diff.info()"
   ]
  },
  {
   "cell_type": "code",
   "execution_count": 13,
   "id": "3d0c06e0-c653-4d8d-a0a4-73c496fc8a64",
   "metadata": {},
   "outputs": [
    {
     "name": "stdout",
     "output_type": "stream",
     "text": [
      "                            OLS Regression Results                            \n",
      "==============================================================================\n",
      "Dep. Variable:                 mrdrte   R-squared:                       0.025\n",
      "Model:                            OLS   Adj. R-squared:                 -0.005\n",
      "Method:                 Least Squares   F-statistic:                    0.8429\n",
      "Date:                Sun, 27 Mar 2022   Prob (F-statistic):              0.474\n",
      "Time:                        17:12:08   Log-Likelihood:                -291.48\n",
      "No. Observations:                 102   AIC:                             591.0\n",
      "Df Residuals:                      98   BIC:                             601.5\n",
      "Df Model:                           3                                         \n",
      "Covariance Type:            nonrobust                                         \n",
      "==============================================================================\n",
      "                 coef    std err          t      P>|t|      [0.025      0.975]\n",
      "------------------------------------------------------------------------------\n",
      "const          1.5110      0.661      2.286      0.024       0.199       2.823\n",
      "d93           -1.2967      1.016     -1.276      0.205      -3.313       0.720\n",
      "exec          -0.1151      0.147     -0.781      0.437      -0.408       0.177\n",
      "unem           0.1631      0.308      0.530      0.598      -0.448       0.774\n",
      "==============================================================================\n",
      "Omnibus:                      200.631   Durbin-Watson:                   2.006\n",
      "Prob(Omnibus):                  0.000   Jarque-Bera (JB):            26309.078\n",
      "Skew:                           8.387   Prob(JB):                         0.00\n",
      "Kurtosis:                      79.870   Cond. No.                         8.10\n",
      "==============================================================================\n",
      "\n",
      "Notes:\n",
      "[1] Standard Errors assume that the covariance matrix of the errors is correctly specified.\n"
     ]
    }
   ],
   "source": [
    "## Run the first-difference OLS regression\n",
    "\n",
    "result2 = sm.OLS(df2_diff[\"mrdrte\"],\n",
    "                   df2_diff[[\"const\", \"d93\", \"exec\", \"unem\"]]).fit() \n",
    "print(result2.summary())"
   ]
  },
  {
   "cell_type": "markdown",
   "id": "485d0fd7-04a2-4bf1-9c2c-7ed598b59843",
   "metadata": {},
   "source": [
    "## (c)"
   ]
  },
  {
   "cell_type": "markdown",
   "id": "708a686d-0351-427a-b96e-184b5ee24c6b",
   "metadata": {},
   "source": [
    "Yes. The coefficient of $UNEM_{it}$ becomes insignificant under first-difference estimation.\n",
    "\n",
    "If we don't partial out the individual component $c_i$ from the estimation, we may overestimate the effect of unemployment. "
   ]
  },
  {
   "cell_type": "markdown",
   "id": "ad498628-d052-4f39-a034-cfa2c2f32b0f",
   "metadata": {},
   "source": [
    "## (d)"
   ]
  },
  {
   "cell_type": "markdown",
   "id": "b7971a00-cca3-4668-b138-59057b42b548",
   "metadata": {},
   "source": [
    "If $\\epsilon_{it-1}$, the shock last year, affects the excutions this year, then $EXEC_{it}$ would not be strictly exogenous anymore. Such a case may happen because the policy maker may tend to support more excutions when the number of murders gets higher."
   ]
  },
  {
   "cell_type": "markdown",
   "id": "a9392e80-dfed-4787-ae4c-2cfcd00fa4df",
   "metadata": {},
   "source": [
    "## Problem 3"
   ]
  },
  {
   "cell_type": "markdown",
   "id": "40a474e6-4410-4b44-a90a-66efe07e66a2",
   "metadata": {},
   "source": [
    "## (a)"
   ]
  },
  {
   "cell_type": "code",
   "execution_count": 14,
   "id": "82ec0b5e-3466-4c96-bcdc-b6eb14df8a1a",
   "metadata": {},
   "outputs": [
    {
     "data": {
      "text/html": [
       "<div>\n",
       "<style scoped>\n",
       "    .dataframe tbody tr th:only-of-type {\n",
       "        vertical-align: middle;\n",
       "    }\n",
       "\n",
       "    .dataframe tbody tr th {\n",
       "        vertical-align: top;\n",
       "    }\n",
       "\n",
       "    .dataframe thead th {\n",
       "        text-align: right;\n",
       "    }\n",
       "</style>\n",
       "<table border=\"1\" class=\"dataframe\">\n",
       "  <thead>\n",
       "    <tr style=\"text-align: right;\">\n",
       "      <th></th>\n",
       "      <th>county</th>\n",
       "      <th>year</th>\n",
       "      <th>crmrte</th>\n",
       "      <th>prbarr</th>\n",
       "      <th>prbconv</th>\n",
       "      <th>prbpris</th>\n",
       "      <th>avgsen</th>\n",
       "      <th>polpc</th>\n",
       "      <th>density</th>\n",
       "      <th>taxpc</th>\n",
       "      <th>...</th>\n",
       "      <th>lpctymle</th>\n",
       "      <th>lpctmin</th>\n",
       "      <th>clcrmrte</th>\n",
       "      <th>clprbarr</th>\n",
       "      <th>clprbcon</th>\n",
       "      <th>clprbpri</th>\n",
       "      <th>clavgsen</th>\n",
       "      <th>clpolpc</th>\n",
       "      <th>cltaxpc</th>\n",
       "      <th>clmix</th>\n",
       "    </tr>\n",
       "  </thead>\n",
       "  <tbody>\n",
       "    <tr>\n",
       "      <th>0</th>\n",
       "      <td>1</td>\n",
       "      <td>81</td>\n",
       "      <td>0.039885</td>\n",
       "      <td>0.289696</td>\n",
       "      <td>0.402062</td>\n",
       "      <td>0.472222</td>\n",
       "      <td>5.61</td>\n",
       "      <td>0.001787</td>\n",
       "      <td>2.307159</td>\n",
       "      <td>25.697630</td>\n",
       "      <td>...</td>\n",
       "      <td>-2.433870</td>\n",
       "      <td>3.006608</td>\n",
       "      <td>NaN</td>\n",
       "      <td>NaN</td>\n",
       "      <td>NaN</td>\n",
       "      <td>NaN</td>\n",
       "      <td>NaN</td>\n",
       "      <td>NaN</td>\n",
       "      <td>NaN</td>\n",
       "      <td>NaN</td>\n",
       "    </tr>\n",
       "    <tr>\n",
       "      <th>1</th>\n",
       "      <td>1</td>\n",
       "      <td>82</td>\n",
       "      <td>0.038345</td>\n",
       "      <td>0.338111</td>\n",
       "      <td>0.433005</td>\n",
       "      <td>0.506993</td>\n",
       "      <td>5.59</td>\n",
       "      <td>0.001767</td>\n",
       "      <td>2.330254</td>\n",
       "      <td>24.874252</td>\n",
       "      <td>...</td>\n",
       "      <td>-2.449038</td>\n",
       "      <td>3.006608</td>\n",
       "      <td>-0.039376</td>\n",
       "      <td>0.154542</td>\n",
       "      <td>0.074143</td>\n",
       "      <td>0.071048</td>\n",
       "      <td>-0.003571</td>\n",
       "      <td>-0.011364</td>\n",
       "      <td>-0.032565</td>\n",
       "      <td>0.030857</td>\n",
       "    </tr>\n",
       "    <tr>\n",
       "      <th>2</th>\n",
       "      <td>1</td>\n",
       "      <td>83</td>\n",
       "      <td>0.030305</td>\n",
       "      <td>0.330449</td>\n",
       "      <td>0.525703</td>\n",
       "      <td>0.479705</td>\n",
       "      <td>5.80</td>\n",
       "      <td>0.001836</td>\n",
       "      <td>2.341801</td>\n",
       "      <td>26.451443</td>\n",
       "      <td>...</td>\n",
       "      <td>-2.464036</td>\n",
       "      <td>3.006608</td>\n",
       "      <td>-0.235316</td>\n",
       "      <td>-0.022922</td>\n",
       "      <td>0.193987</td>\n",
       "      <td>-0.055326</td>\n",
       "      <td>0.036879</td>\n",
       "      <td>0.038413</td>\n",
       "      <td>0.061477</td>\n",
       "      <td>-0.244732</td>\n",
       "    </tr>\n",
       "    <tr>\n",
       "      <th>3</th>\n",
       "      <td>1</td>\n",
       "      <td>84</td>\n",
       "      <td>0.034726</td>\n",
       "      <td>0.362525</td>\n",
       "      <td>0.604706</td>\n",
       "      <td>0.520104</td>\n",
       "      <td>6.89</td>\n",
       "      <td>0.001886</td>\n",
       "      <td>2.346420</td>\n",
       "      <td>26.842348</td>\n",
       "      <td>...</td>\n",
       "      <td>-2.478925</td>\n",
       "      <td>3.006608</td>\n",
       "      <td>0.136180</td>\n",
       "      <td>0.092641</td>\n",
       "      <td>0.140006</td>\n",
       "      <td>0.080857</td>\n",
       "      <td>0.172213</td>\n",
       "      <td>0.026930</td>\n",
       "      <td>0.014670</td>\n",
       "      <td>-0.027331</td>\n",
       "    </tr>\n",
       "    <tr>\n",
       "      <th>4</th>\n",
       "      <td>1</td>\n",
       "      <td>85</td>\n",
       "      <td>0.036573</td>\n",
       "      <td>0.325395</td>\n",
       "      <td>0.578723</td>\n",
       "      <td>0.497059</td>\n",
       "      <td>6.55</td>\n",
       "      <td>0.001924</td>\n",
       "      <td>2.364896</td>\n",
       "      <td>28.140337</td>\n",
       "      <td>...</td>\n",
       "      <td>-2.497306</td>\n",
       "      <td>3.006608</td>\n",
       "      <td>0.051825</td>\n",
       "      <td>-0.108054</td>\n",
       "      <td>-0.043918</td>\n",
       "      <td>-0.045320</td>\n",
       "      <td>-0.050606</td>\n",
       "      <td>0.020199</td>\n",
       "      <td>0.047223</td>\n",
       "      <td>0.172125</td>\n",
       "    </tr>\n",
       "  </tbody>\n",
       "</table>\n",
       "<p>5 rows × 59 columns</p>\n",
       "</div>"
      ],
      "text/plain": [
       "   county  year    crmrte    prbarr   prbconv   prbpris  avgsen     polpc  \\\n",
       "0       1    81  0.039885  0.289696  0.402062  0.472222    5.61  0.001787   \n",
       "1       1    82  0.038345  0.338111  0.433005  0.506993    5.59  0.001767   \n",
       "2       1    83  0.030305  0.330449  0.525703  0.479705    5.80  0.001836   \n",
       "3       1    84  0.034726  0.362525  0.604706  0.520104    6.89  0.001886   \n",
       "4       1    85  0.036573  0.325395  0.578723  0.497059    6.55  0.001924   \n",
       "\n",
       "    density      taxpc  ...  lpctymle   lpctmin  clcrmrte  clprbarr  clprbcon  \\\n",
       "0  2.307159  25.697630  ... -2.433870  3.006608       NaN       NaN       NaN   \n",
       "1  2.330254  24.874252  ... -2.449038  3.006608 -0.039376  0.154542  0.074143   \n",
       "2  2.341801  26.451443  ... -2.464036  3.006608 -0.235316 -0.022922  0.193987   \n",
       "3  2.346420  26.842348  ... -2.478925  3.006608  0.136180  0.092641  0.140006   \n",
       "4  2.364896  28.140337  ... -2.497306  3.006608  0.051825 -0.108054 -0.043918   \n",
       "\n",
       "   clprbpri  clavgsen   clpolpc   cltaxpc     clmix  \n",
       "0       NaN       NaN       NaN       NaN       NaN  \n",
       "1  0.071048 -0.003571 -0.011364 -0.032565  0.030857  \n",
       "2 -0.055326  0.036879  0.038413  0.061477 -0.244732  \n",
       "3  0.080857  0.172213  0.026930  0.014670 -0.027331  \n",
       "4 -0.045320 -0.050606  0.020199  0.047223  0.172125  \n",
       "\n",
       "[5 rows x 59 columns]"
      ]
     },
     "execution_count": 14,
     "metadata": {},
     "output_type": "execute_result"
    }
   ],
   "source": [
    "df = pd.read_stata(\"cornwell.dta\")\n",
    "df.head()"
   ]
  },
  {
   "cell_type": "code",
   "execution_count": 15,
   "id": "3d2545a5-6c3a-4b14-af5a-30d8a1d17266",
   "metadata": {},
   "outputs": [
    {
     "name": "stdout",
     "output_type": "stream",
     "text": [
      "<class 'pandas.core.frame.DataFrame'>\n",
      "Int64Index: 630 entries, 0 to 629\n",
      "Data columns (total 59 columns):\n",
      " #   Column    Non-Null Count  Dtype  \n",
      "---  ------    --------------  -----  \n",
      " 0   county    630 non-null    int16  \n",
      " 1   year      630 non-null    int8   \n",
      " 2   crmrte    630 non-null    float32\n",
      " 3   prbarr    630 non-null    float32\n",
      " 4   prbconv   630 non-null    float32\n",
      " 5   prbpris   630 non-null    float32\n",
      " 6   avgsen    630 non-null    float32\n",
      " 7   polpc     630 non-null    float32\n",
      " 8   density   630 non-null    float32\n",
      " 9   taxpc     630 non-null    float32\n",
      " 10  west      630 non-null    int8   \n",
      " 11  central   630 non-null    int8   \n",
      " 12  urban     630 non-null    int8   \n",
      " 13  pctmin80  630 non-null    float32\n",
      " 14  wcon      630 non-null    float32\n",
      " 15  wtuc      630 non-null    float32\n",
      " 16  wtrd      630 non-null    float32\n",
      " 17  wfir      630 non-null    float32\n",
      " 18  wser      630 non-null    float32\n",
      " 19  wmfg      630 non-null    float32\n",
      " 20  wfed      630 non-null    float32\n",
      " 21  wsta      630 non-null    float32\n",
      " 22  wloc      630 non-null    float32\n",
      " 23  mix       630 non-null    float32\n",
      " 24  pctymle   630 non-null    float32\n",
      " 25  d82       630 non-null    int8   \n",
      " 26  d83       630 non-null    int8   \n",
      " 27  d84       630 non-null    int8   \n",
      " 28  d85       630 non-null    int8   \n",
      " 29  d86       630 non-null    int8   \n",
      " 30  d87       630 non-null    int8   \n",
      " 31  lcrmrte   630 non-null    float32\n",
      " 32  lprbarr   630 non-null    float32\n",
      " 33  lprbconv  630 non-null    float32\n",
      " 34  lprbpris  630 non-null    float32\n",
      " 35  lavgsen   630 non-null    float32\n",
      " 36  lpolpc    630 non-null    float32\n",
      " 37  ldensity  630 non-null    float32\n",
      " 38  ltaxpc    630 non-null    float32\n",
      " 39  lwcon     630 non-null    float32\n",
      " 40  lwtuc     630 non-null    float32\n",
      " 41  lwtrd     630 non-null    float32\n",
      " 42  lwfir     630 non-null    float32\n",
      " 43  lwser     630 non-null    float32\n",
      " 44  lwmfg     630 non-null    float32\n",
      " 45  lwfed     630 non-null    float32\n",
      " 46  lwsta     630 non-null    float32\n",
      " 47  lwloc     630 non-null    float32\n",
      " 48  lmix      630 non-null    float32\n",
      " 49  lpctymle  630 non-null    float32\n",
      " 50  lpctmin   630 non-null    float32\n",
      " 51  clcrmrte  540 non-null    float32\n",
      " 52  clprbarr  540 non-null    float32\n",
      " 53  clprbcon  540 non-null    float32\n",
      " 54  clprbpri  540 non-null    float32\n",
      " 55  clavgsen  540 non-null    float32\n",
      " 56  clpolpc   540 non-null    float32\n",
      " 57  cltaxpc   540 non-null    float32\n",
      " 58  clmix     540 non-null    float32\n",
      "dtypes: float32(48), int16(1), int8(10)\n",
      "memory usage: 130.4 KB\n"
     ]
    }
   ],
   "source": [
    "df.info()"
   ]
  },
  {
   "cell_type": "code",
   "execution_count": 16,
   "id": "0034f99e-dcf3-4971-82eb-8e26b723eff0",
   "metadata": {},
   "outputs": [],
   "source": [
    "year = pd.Categorical(df.year)\n",
    "df3 = df.set_index(['county', 'year'])\n",
    "df3['year'] = year\n",
    "df3['const'] = 1"
   ]
  },
  {
   "cell_type": "code",
   "execution_count": 17,
   "id": "90c19a00-5197-4e6a-ba3e-7e28fa79acdc",
   "metadata": {},
   "outputs": [
    {
     "name": "stdout",
     "output_type": "stream",
     "text": [
      "                        RandomEffects Estimation Summary                        \n",
      "================================================================================\n",
      "Dep. Variable:                lcrmrte   R-squared:                        0.4264\n",
      "Estimator:              RandomEffects   R-squared (Between):              0.4203\n",
      "No. Observations:                 630   R-squared (Within):               0.4281\n",
      "Date:                Sun, Mar 27 2022   R-squared (Overall):              0.4210\n",
      "Time:                        17:12:08   Log-likelihood                    321.61\n",
      "Cov. Estimator:            Unadjusted                                           \n",
      "                                        F-statistic:                      41.756\n",
      "Entities:                          90   P-value                           0.0000\n",
      "Avg Obs:                       7.0000   Distribution:                  F(11,618)\n",
      "Min Obs:                       7.0000                                           \n",
      "Max Obs:                       7.0000   F-statistic (robust):             41.756\n",
      "                                        P-value                           0.0000\n",
      "Time periods:                       7   Distribution:                  F(11,618)\n",
      "Avg Obs:                       90.000                                           \n",
      "Min Obs:                       90.000                                           \n",
      "Max Obs:                       90.000                                           \n",
      "                                                                                \n",
      "                             Parameter Estimates                              \n",
      "==============================================================================\n",
      "            Parameter  Std. Err.     T-stat    P-value    Lower CI    Upper CI\n",
      "------------------------------------------------------------------------------\n",
      "const         -1.6678     0.1743    -9.5703     0.0000     -2.0100     -1.3255\n",
      "d82            0.0137     0.0227     0.6018     0.5476     -0.0310      0.0584\n",
      "d83           -0.0756     0.0225    -3.3551     0.0008     -0.1199     -0.0314\n",
      "d84           -0.1134     0.0228    -4.9694     0.0000     -0.1582     -0.0686\n",
      "d85           -0.1061     0.0231    -4.6028     0.0000     -0.1514     -0.0608\n",
      "d86           -0.0797     0.0226    -3.5201     0.0005     -0.1241     -0.0352\n",
      "d87           -0.0424     0.0222    -1.9072     0.0570     -0.0860      0.0013\n",
      "lprbarr       -0.4212     0.0318    -13.261     0.0000     -0.4836     -0.3589\n",
      "lprbconv      -0.3246     0.0209    -15.537     0.0000     -0.3657     -0.2836\n",
      "lprbpris      -0.1798     0.0337    -5.3289     0.0000     -0.2461     -0.1136\n",
      "lavgsen       -0.0081     0.0277    -0.2913     0.7710     -0.0625      0.0464\n",
      "lpolpc         0.4293     0.0260     16.479     0.0000      0.3781      0.4804\n",
      "==============================================================================\n"
     ]
    }
   ],
   "source": [
    "## Estimate the model by random effects\n",
    "\n",
    "exog_var = ['const', 'd82', 'd83', 'd84', 'd85', 'd86', 'd87',\n",
    "            'lprbarr', 'lprbconv', 'lprbpris', 'lavgsen', 'lpolpc']\n",
    "exog = df3[exog_var]\n",
    "model_RE = RandomEffects(df3.lcrmrte, exog)\n",
    "result_RE = model_RE.fit()\n",
    "print(result_RE)"
   ]
  },
  {
   "cell_type": "code",
   "execution_count": 18,
   "id": "da290fd2-ec81-41e1-abe9-0e502f9935ae",
   "metadata": {},
   "outputs": [
    {
     "name": "stdout",
     "output_type": "stream",
     "text": [
      "                          PanelOLS Estimation Summary                           \n",
      "================================================================================\n",
      "Dep. Variable:                lcrmrte   R-squared:                        0.4342\n",
      "Estimator:                   PanelOLS   R-squared (Between):              0.3746\n",
      "No. Observations:                 630   R-squared (Within):               0.4342\n",
      "Date:                Sun, Mar 27 2022   R-squared (Overall):              0.3798\n",
      "Time:                        17:12:08   Log-likelihood                    405.58\n",
      "Cov. Estimator:            Unadjusted                                           \n",
      "                                        F-statistic:                      36.911\n",
      "Entities:                          90   P-value                           0.0000\n",
      "Avg Obs:                       7.0000   Distribution:                  F(11,529)\n",
      "Min Obs:                       7.0000                                           \n",
      "Max Obs:                       7.0000   F-statistic (robust):             36.911\n",
      "                                        P-value                           0.0000\n",
      "Time periods:                       7   Distribution:                  F(11,529)\n",
      "Avg Obs:                       90.000                                           \n",
      "Min Obs:                       90.000                                           \n",
      "Max Obs:                       90.000                                           \n",
      "                                                                                \n",
      "                             Parameter Estimates                              \n",
      "==============================================================================\n",
      "            Parameter  Std. Err.     T-stat    P-value    Lower CI    Upper CI\n",
      "------------------------------------------------------------------------------\n",
      "const         -1.6041     0.1686    -9.5159     0.0000     -1.9353     -1.2730\n",
      "d82            0.0126     0.0215     0.5840     0.5595     -0.0297      0.0549\n",
      "d83           -0.0793     0.0213    -3.7152     0.0002     -0.1212     -0.0374\n",
      "d84           -0.1177     0.0216    -5.4467     0.0000     -0.1602     -0.0753\n",
      "d85           -0.1120     0.0218    -5.1248     0.0000     -0.1549     -0.0690\n",
      "d86           -0.0818     0.0214    -3.8189     0.0001     -0.1239     -0.0397\n",
      "d87           -0.0405     0.0210    -1.9236     0.0549     -0.0818      0.0009\n",
      "lprbarr       -0.3598     0.0324    -11.098     0.0000     -0.4235     -0.2961\n",
      "lprbconv      -0.2859     0.0212    -13.474     0.0000     -0.3276     -0.2442\n",
      "lprbpris      -0.1828     0.0325    -5.6308     0.0000     -0.2465     -0.1190\n",
      "lavgsen       -0.0045     0.0264    -0.1697     0.8653     -0.0564      0.0475\n",
      "lpolpc         0.4241     0.0264     16.086     0.0000      0.3723      0.4759\n",
      "==============================================================================\n",
      "\n",
      "F-test for Poolability: 45.874\n",
      "P-value: 0.0000\n",
      "Distribution: F(89,529)\n",
      "\n",
      "Included effects: Entity\n"
     ]
    }
   ],
   "source": [
    "## Estimate the model by fixed effects\n",
    "\n",
    "model_FE = PanelOLS(df3.lcrmrte, exog, entity_effects=True)\n",
    "result_FE = model_FE.fit()\n",
    "print(result_FE)"
   ]
  },
  {
   "cell_type": "markdown",
   "id": "1ff0a9c0-a4d6-452e-912f-f76534a4efa2",
   "metadata": {},
   "source": [
    "## (b)"
   ]
  },
  {
   "cell_type": "code",
   "execution_count": 19,
   "id": "1a39cbb2-54f7-4764-af53-8833ba2ea853",
   "metadata": {},
   "outputs": [],
   "source": [
    "## Compute W_i by averaging all explanatory variables across time\n",
    "\n",
    "time_average = df3.groupby(\"county\").mean()\n",
    "\n",
    "## Merge the dataset\n",
    "\n",
    "df3_merged = df3.merge(time_average, how='left', \n",
    "                       left_index=True, right_index=True, suffixes=('', '_avg'))"
   ]
  },
  {
   "cell_type": "code",
   "execution_count": 20,
   "id": "4b9aa768-1040-402d-9db4-9cd61b43f204",
   "metadata": {},
   "outputs": [
    {
     "name": "stdout",
     "output_type": "stream",
     "text": [
      "                        RandomEffects Estimation Summary                        \n",
      "================================================================================\n",
      "Dep. Variable:                lcrmrte   R-squared:                        0.4940\n",
      "Estimator:              RandomEffects   R-squared (Between):              0.7099\n",
      "No. Observations:                 630   R-squared (Within):               0.4342\n",
      "Date:                Sun, Mar 27 2022   R-squared (Overall):              0.6859\n",
      "Time:                        17:12:08   Log-likelihood                    363.74\n",
      "Cov. Estimator:            Unadjusted                                           \n",
      "                                        F-statistic:                      37.410\n",
      "Entities:                          90   P-value                           0.0000\n",
      "Avg Obs:                       7.0000   Distribution:                  F(16,613)\n",
      "Min Obs:                       7.0000                                           \n",
      "Max Obs:                       7.0000   F-statistic (robust):             37.410\n",
      "                                        P-value                           0.0000\n",
      "Time periods:                       7   Distribution:                  F(16,613)\n",
      "Avg Obs:                       90.000                                           \n",
      "Min Obs:                       90.000                                           \n",
      "Max Obs:                       90.000                                           \n",
      "                                                                                \n",
      "                              Parameter Estimates                               \n",
      "================================================================================\n",
      "              Parameter  Std. Err.     T-stat    P-value    Lower CI    Upper CI\n",
      "--------------------------------------------------------------------------------\n",
      "const           -1.4557     0.7415    -1.9632     0.0501     -2.9119      0.0005\n",
      "d82              0.0126     0.0214     0.5883     0.5566     -0.0294      0.0546\n",
      "d83             -0.0793     0.0212    -3.7423     0.0002     -0.1209     -0.0377\n",
      "d84             -0.1177     0.0215    -5.4865     0.0000     -0.1599     -0.0756\n",
      "d85             -0.1120     0.0217    -5.1622     0.0000     -0.1545     -0.0694\n",
      "d86             -0.0818     0.0213    -3.8468     0.0001     -0.1236     -0.0401\n",
      "d87             -0.0405     0.0209    -1.9376     0.0531     -0.0815      0.0005\n",
      "lprbarr         -0.3598     0.0322    -11.179     0.0000     -0.4230     -0.2966\n",
      "lprbconv        -0.2859     0.0211    -13.572     0.0000     -0.3272     -0.2445\n",
      "lprbpris        -0.1828     0.0322    -5.6719     0.0000     -0.2461     -0.1195\n",
      "lavgsen         -0.0045     0.0263    -0.1709     0.8643     -0.0560      0.0471\n",
      "lpolpc           0.4241     0.0262     16.203     0.0000      0.3727      0.4755\n",
      "lprbarr_avg     -0.4531     0.1024    -4.4262     0.0000     -0.6541     -0.2520\n",
      "lprbconv_avg    -0.3062     0.0766    -3.9991     0.0001     -0.4566     -0.1558\n",
      "lprbpris_avg     1.3435     0.2514     5.3430     0.0000      0.8497      1.8372\n",
      "lavgsen_avg     -0.1268     0.2204    -0.5752     0.5654     -0.5597      0.3061\n",
      "lpolpc_avg      -0.0794     0.0796    -0.9976     0.3189     -0.2358      0.0769\n",
      "================================================================================\n"
     ]
    }
   ],
   "source": [
    "## Estimate the model by random effects\n",
    "\n",
    "exog_var = ['const', 'd82', 'd83', 'd84', 'd85', 'd86', 'd87',\n",
    "            'lprbarr', 'lprbconv', 'lprbpris', 'lavgsen', 'lpolpc',\n",
    "            'lprbarr_avg', 'lprbconv_avg', 'lprbpris_avg', 'lavgsen_avg', 'lpolpc_avg']\n",
    "exog = df3_merged[exog_var]\n",
    "model_RE2 = RandomEffects(df3_merged.lcrmrte, exog)\n",
    "result_RE2 = model_RE2.fit()\n",
    "print(result_RE2)"
   ]
  },
  {
   "cell_type": "code",
   "execution_count": 21,
   "id": "154701db-c0ef-4953-9bc6-9fe2601527d3",
   "metadata": {},
   "outputs": [
    {
     "data": {
      "text/plain": [
       "Linear Equality Hypothesis Test\n",
       "H0: Linear equality constraint is valid\n",
       "Statistic: 81.9424\n",
       "P-value: 0.0000\n",
       "Distributed: chi2(5)\n",
       "WaldTestStatistic, id: 0x7fc5808e1070"
      ]
     },
     "execution_count": 21,
     "metadata": {},
     "output_type": "execute_result"
    }
   ],
   "source": [
    "## Do the Wald-Test for the coefficients\n",
    "\n",
    "formula = 'lprbarr_avg = lprbconv_avg = lprbpris_avg  = lavgsen_avg = lpolpc_avg = 0'\n",
    "result_RE2.wald_test(formula=formula)"
   ]
  },
  {
   "cell_type": "markdown",
   "id": "45c8731f-0fc3-41bc-8280-d1f1cb5ccecd",
   "metadata": {},
   "source": [
    "## [ANS] "
   ]
  },
  {
   "cell_type": "markdown",
   "id": "d2e5ab27-11df-499c-b2ae-c294f4bd828f",
   "metadata": {},
   "source": [
    "It shows that we can reject the null hypothesis under $0.01$ significant level."
   ]
  },
  {
   "cell_type": "markdown",
   "id": "33037b47-6f2e-46c4-92a0-4878b8f0d243",
   "metadata": {},
   "source": [
    "## (c)"
   ]
  },
  {
   "cell_type": "code",
   "execution_count": 22,
   "id": "88f4b92c-55b6-4d9b-8cea-a2486c42f6b5",
   "metadata": {},
   "outputs": [
    {
     "name": "stdout",
     "output_type": "stream",
     "text": [
      "                          PanelOLS Estimation Summary                           \n",
      "================================================================================\n",
      "Dep. Variable:                lcrmrte   R-squared:                        0.4575\n",
      "Estimator:                   PanelOLS   R-squared (Between):              0.2458\n",
      "No. Observations:                 630   R-squared (Within):               0.4575\n",
      "Date:                Sun, Mar 27 2022   R-squared (Overall):              0.2642\n",
      "Time:                        17:12:08   Log-likelihood                    418.79\n",
      "Cov. Estimator:            Unadjusted                                           \n",
      "                                        F-statistic:                      21.923\n",
      "Entities:                          90   P-value                           0.0000\n",
      "Avg Obs:                       7.0000   Distribution:                  F(20,520)\n",
      "Min Obs:                       7.0000                                           \n",
      "Max Obs:                       7.0000   F-statistic (robust):             21.923\n",
      "                                        P-value                           0.0000\n",
      "Time periods:                       7   Distribution:                  F(20,520)\n",
      "Avg Obs:                       90.000                                           \n",
      "Min Obs:                       90.000                                           \n",
      "Max Obs:                       90.000                                           \n",
      "                                                                                \n",
      "                             Parameter Estimates                              \n",
      "==============================================================================\n",
      "            Parameter  Std. Err.     T-stat    P-value    Lower CI    Upper CI\n",
      "------------------------------------------------------------------------------\n",
      "const          0.8932     1.4241     0.6272     0.5308     -1.9045      3.6908\n",
      "d82            0.0189     0.0251     0.7519     0.4524     -0.0305      0.0682\n",
      "d83           -0.0553     0.0330    -1.6739     0.0948     -0.1202      0.0096\n",
      "d84           -0.0615     0.0411    -1.4975     0.1349     -0.1422      0.0192\n",
      "d85           -0.0397     0.0562    -0.7071     0.4798     -0.1500      0.0706\n",
      "d86           -0.0001     0.0680    -0.0017     0.9987     -0.1337      0.1335\n",
      "d87            0.0537     0.0799     0.6722     0.5018     -0.1033      0.2107\n",
      "lprbarr       -0.3564     0.0322    -11.081     0.0000     -0.4195     -0.2932\n",
      "lprbconv      -0.2860     0.0211    -13.584     0.0000     -0.3273     -0.2446\n",
      "lprbpris      -0.1751     0.0323    -5.4154     0.0000     -0.2387     -0.1116\n",
      "lavgsen       -0.0029     0.0262    -0.1096     0.9127     -0.0544      0.0486\n",
      "lpolpc         0.4229     0.0264     16.022     0.0000      0.3710      0.4748\n",
      "lwcon         -0.0345     0.0392    -0.8821     0.3781     -0.1115      0.0424\n",
      "lwtuc          0.0460     0.0190     2.4154     0.0161      0.0086      0.0834\n",
      "lwtrd         -0.0202     0.0406    -0.4969     0.6195     -0.1000      0.0596\n",
      "lwfir         -0.0035     0.0283    -0.1251     0.9005     -0.0592      0.0521\n",
      "lwser          0.0101     0.0192     0.5277     0.5980     -0.0276      0.0478\n",
      "lwmfg         -0.3006     0.1094    -2.7473     0.0062     -0.5155     -0.0856\n",
      "lwfed         -0.3331     0.1764    -1.8879     0.0596     -0.6798      0.0135\n",
      "lwsta          0.0215     0.1131     0.1903     0.8491     -0.2006      0.2436\n",
      "lwloc          0.1810     0.1181     1.5332     0.1258     -0.0509      0.4130\n",
      "==============================================================================\n",
      "\n",
      "F-test for Poolability: 39.122\n",
      "P-value: 0.0000\n",
      "Distribution: F(89,520)\n",
      "\n",
      "Included effects: Entity\n"
     ]
    }
   ],
   "source": [
    "## Add logarithms of the nine wage variables\n",
    "\n",
    "exog_var = ['const', 'd82', 'd83', 'd84', 'd85', 'd86', 'd87',\n",
    "            'lprbarr', 'lprbconv', 'lprbpris', 'lavgsen', 'lpolpc',\n",
    "            'lwcon', 'lwtuc', 'lwtrd', 'lwfir', 'lwser', 'lwmfg', 'lwfed', 'lwsta', 'lwloc']\n",
    "exog = df3[exog_var]\n",
    "\n",
    "## Estimate the model by fixed effects\n",
    "\n",
    "model_FE2 = PanelOLS(df3.lcrmrte, exog, entity_effects=True)\n",
    "result_FE2 = model_FE2.fit()\n",
    "print(result_FE2)"
   ]
  },
  {
   "cell_type": "code",
   "execution_count": 23,
   "id": "35dea149-c53c-436f-899f-5ea058c500df",
   "metadata": {},
   "outputs": [
    {
     "data": {
      "text/plain": [
       "Linear Equality Hypothesis Test\n",
       "H0: Linear equality constraint is valid\n",
       "Statistic: 22.2649\n",
       "P-value: 0.0081\n",
       "Distributed: chi2(9)\n",
       "WaldTestStatistic, id: 0x7fc5b07a6910"
      ]
     },
     "execution_count": 23,
     "metadata": {},
     "output_type": "execute_result"
    }
   ],
   "source": [
    "## Do the Wald-Test for the coefficients\n",
    "\n",
    "formula = 'lwcon = lwtuc = lwtrd = lwfir = lwser = lwmfg = lwfed = lwsta = lwloc = 0'\n",
    "result_FE2.wald_test(formula=formula)"
   ]
  },
  {
   "cell_type": "markdown",
   "id": "45aecb7f-e30f-4f60-a878-dfe1832c0d96",
   "metadata": {},
   "source": [
    "## [ANS] "
   ]
  },
  {
   "cell_type": "markdown",
   "id": "61edbd6e-88b1-4967-b836-1e82b84eee40",
   "metadata": {},
   "source": [
    "We can reject the null hypothesis that the coefficient of these variables are equal to zero under $0.01$ significant level."
   ]
  },
  {
   "cell_type": "code",
   "execution_count": 24,
   "id": "dc8562d6-9923-4c18-86a9-9f9ccdd68843",
   "metadata": {},
   "outputs": [
    {
     "name": "stdout",
     "output_type": "stream",
     "text": [
      "<class 'pandas.core.frame.DataFrame'>\n",
      "MultiIndex: 630 entries, (1, 81) to (197, 87)\n",
      "Data columns (total 59 columns):\n",
      " #   Column    Non-Null Count  Dtype  \n",
      "---  ------    --------------  -----  \n",
      " 0   crmrte    540 non-null    float32\n",
      " 1   prbarr    540 non-null    float32\n",
      " 2   prbconv   540 non-null    float32\n",
      " 3   prbpris   540 non-null    float32\n",
      " 4   avgsen    540 non-null    float32\n",
      " 5   polpc     540 non-null    float32\n",
      " 6   density   540 non-null    float32\n",
      " 7   taxpc     540 non-null    float32\n",
      " 8   west      540 non-null    float32\n",
      " 9   central   540 non-null    float32\n",
      " 10  urban     540 non-null    float32\n",
      " 11  pctmin80  540 non-null    float32\n",
      " 12  wcon      540 non-null    float32\n",
      " 13  wtuc      540 non-null    float32\n",
      " 14  wtrd      540 non-null    float32\n",
      " 15  wfir      540 non-null    float32\n",
      " 16  wser      540 non-null    float32\n",
      " 17  wmfg      540 non-null    float32\n",
      " 18  wfed      540 non-null    float32\n",
      " 19  wsta      540 non-null    float32\n",
      " 20  wloc      540 non-null    float32\n",
      " 21  mix       540 non-null    float32\n",
      " 22  pctymle   540 non-null    float32\n",
      " 23  d82       540 non-null    float32\n",
      " 24  d83       540 non-null    float32\n",
      " 25  d84       540 non-null    float32\n",
      " 26  d85       540 non-null    float32\n",
      " 27  d86       540 non-null    float32\n",
      " 28  d87       540 non-null    float32\n",
      " 29  lcrmrte   540 non-null    float32\n",
      " 30  lprbarr   540 non-null    float32\n",
      " 31  lprbconv  540 non-null    float32\n",
      " 32  lprbpris  540 non-null    float32\n",
      " 33  lavgsen   540 non-null    float32\n",
      " 34  lpolpc    540 non-null    float32\n",
      " 35  ldensity  540 non-null    float32\n",
      " 36  ltaxpc    540 non-null    float32\n",
      " 37  lwcon     540 non-null    float32\n",
      " 38  lwtuc     540 non-null    float32\n",
      " 39  lwtrd     540 non-null    float32\n",
      " 40  lwfir     540 non-null    float32\n",
      " 41  lwser     540 non-null    float32\n",
      " 42  lwmfg     540 non-null    float32\n",
      " 43  lwfed     540 non-null    float32\n",
      " 44  lwsta     540 non-null    float32\n",
      " 45  lwloc     540 non-null    float32\n",
      " 46  lmix      540 non-null    float32\n",
      " 47  lpctymle  540 non-null    float32\n",
      " 48  lpctmin   540 non-null    float32\n",
      " 49  clcrmrte  450 non-null    float32\n",
      " 50  clprbarr  450 non-null    float32\n",
      " 51  clprbcon  450 non-null    float32\n",
      " 52  clprbpri  450 non-null    float32\n",
      " 53  clavgsen  450 non-null    float32\n",
      " 54  clpolpc   450 non-null    float32\n",
      " 55  cltaxpc   450 non-null    float32\n",
      " 56  clmix     450 non-null    float32\n",
      " 57  year      540 non-null    float64\n",
      " 58  const     540 non-null    float64\n",
      "dtypes: float32(57), float64(2)\n",
      "memory usage: 154.6 KB\n"
     ]
    },
    {
     "name": "stderr",
     "output_type": "stream",
     "text": [
      "/Users/jhongyihuang/opt/anaconda3/lib/python3.9/site-packages/pandas/core/groupby/groupby.py:937: FutureWarning: dtype lost in 'diff()'. In the future this will raise a TypeError. Convert to a suitable dtype prior to calling 'diff'.\n",
      "  return f(x, *args, **kwargs)\n"
     ]
    }
   ],
   "source": [
    "df3_diff = df3.groupby(\"county\").diff(1)\n",
    "df3_diff.info()"
   ]
  },
  {
   "cell_type": "markdown",
   "id": "bc4505f1-7442-4423-8c93-bff6575d8c51",
   "metadata": {},
   "source": [
    "## (d)"
   ]
  },
  {
   "cell_type": "code",
   "execution_count": 25,
   "id": "0776e617-be56-4a33-b650-18f50606a207",
   "metadata": {},
   "outputs": [
    {
     "name": "stdout",
     "output_type": "stream",
     "text": [
      "                            OLS Regression Results                            \n",
      "==============================================================================\n",
      "Dep. Variable:                lcrmrte   R-squared:                       0.433\n",
      "Model:                            OLS   Adj. R-squared:                  0.422\n",
      "Method:                 Least Squares   F-statistic:                     40.32\n",
      "Date:                Sun, 27 Mar 2022   Prob (F-statistic):           6.30e-59\n",
      "Time:                        17:12:08   Log-Likelihood:                 248.48\n",
      "No. Observations:                 540   AIC:                            -475.0\n",
      "Df Residuals:                     529   BIC:                            -427.7\n",
      "Df Model:                          10                                         \n",
      "Covariance Type:            nonrobust                                         \n",
      "==============================================================================\n",
      "                 coef    std err          t      P>|t|      [0.025      0.975]\n",
      "------------------------------------------------------------------------------\n",
      "const          0.0077      0.017      0.452      0.651      -0.026       0.041\n",
      "d83           -0.0999      0.024     -4.179      0.000      -0.147      -0.053\n",
      "d84           -0.1478      0.041     -3.581      0.000      -0.229      -0.067\n",
      "d85           -0.1524      0.058     -2.610      0.009      -0.267      -0.038\n",
      "d86           -0.1249      0.076     -1.643      0.101      -0.274       0.024\n",
      "d87           -0.0841      0.094     -0.894      0.372      -0.269       0.101\n",
      "lprbarr       -0.3275      0.030    -10.924      0.000      -0.386      -0.269\n",
      "lprbconv      -0.2381      0.018    -13.058      0.000      -0.274      -0.202\n",
      "lprbpris      -0.1650      0.026     -6.356      0.000      -0.216      -0.114\n",
      "lavgsen       -0.0218      0.022     -0.985      0.325      -0.065       0.022\n",
      "lpolpc         0.3984      0.027     14.821      0.000       0.346       0.451\n",
      "==============================================================================\n",
      "Omnibus:                       60.932   Durbin-Watson:                   2.366\n",
      "Prob(Omnibus):                  0.000   Jarque-Bera (JB):              419.621\n",
      "Skew:                          -0.120   Prob(JB):                     7.59e-92\n",
      "Kurtosis:                       7.312   Cond. No.                         21.6\n",
      "==============================================================================\n",
      "\n",
      "Notes:\n",
      "[1] Standard Errors assume that the covariance matrix of the errors is correctly specified.\n"
     ]
    }
   ],
   "source": [
    "## Compute the first difference\n",
    "\n",
    "df3_diff = df3.groupby(\"county\").diff(1)\n",
    "\n",
    "df3_diff['const'] = 1 \n",
    "exog_var = ['const', 'd83', 'd84', 'd85', 'd86', 'd87',\n",
    "            'lprbarr', 'lprbconv', 'lprbpris', 'lavgsen', 'lpolpc']\n",
    "df3_diff = df3_diff[[\"lcrmrte\", 'const', 'd83', 'd84', 'd85', 'd86', 'd87',\n",
    "            'lprbarr', 'lprbconv', 'lprbpris', 'lavgsen', 'lpolpc']].dropna()\n",
    "\n",
    "\n",
    "## Estimate the model by first difference\n",
    "\n",
    "result_diff = sm.OLS(df3_diff[\"lcrmrte\"], exog=df3_diff[exog_var]).fit() \n",
    "print(result_diff.summary())"
   ]
  },
  {
   "cell_type": "markdown",
   "id": "10713185-bbff-4a30-9be6-ae034cc994ad",
   "metadata": {},
   "source": [
    "## [ANS] "
   ]
  },
  {
   "cell_type": "markdown",
   "id": "659968e0-a293-4584-b57f-2a670ecc7d4f",
   "metadata": {},
   "source": [
    "Compared with the fixed effect and random effect regression, the first-difference model has a smaller coefficient for $lnPOLPC_{it}$. This may reflect that the first difference reduces the serial correlation in the error terms. "
   ]
  },
  {
   "cell_type": "markdown",
   "id": "66eed0a2-2720-4730-b0e5-60254aefa763",
   "metadata": {},
   "source": [
    "## (e)"
   ]
  },
  {
   "cell_type": "markdown",
   "id": "271ebac0-b114-4ffd-afa9-0c0b149a8c66",
   "metadata": {},
   "source": [
    "No. The differences in the standard errors between FE and FD are quite small."
   ]
  },
  {
   "cell_type": "markdown",
   "id": "9c95e7a7-71ee-443e-b523-bcee01abb12b",
   "metadata": {},
   "source": [
    "## (f)"
   ]
  },
  {
   "cell_type": "code",
   "execution_count": 28,
   "id": "8123df20-afca-401a-ae28-53922b102959",
   "metadata": {},
   "outputs": [
    {
     "name": "stdout",
     "output_type": "stream",
     "text": [
      "                                 OLS Regression Results                                \n",
      "=======================================================================================\n",
      "Dep. Variable:                      y   R-squared (uncentered):                   0.049\n",
      "Model:                            OLS   Adj. R-squared (uncentered):              0.047\n",
      "Method:                 Least Squares   F-statistic:                              22.97\n",
      "Date:                Sun, 27 Mar 2022   Prob (F-statistic):                    2.24e-06\n",
      "Time:                        17:12:46   Log-Likelihood:                          205.85\n",
      "No. Observations:                 450   AIC:                                     -409.7\n",
      "Df Residuals:                     449   BIC:                                     -405.6\n",
      "Df Model:                           1                                                  \n",
      "Covariance Type:            nonrobust                                                  \n",
      "==============================================================================\n",
      "                 coef    std err          t      P>|t|      [0.025      0.975]\n",
      "------------------------------------------------------------------------------\n",
      "x1            -0.2305      0.048     -4.792      0.000      -0.325      -0.136\n",
      "==============================================================================\n",
      "Omnibus:                       53.401   Durbin-Watson:                   2.152\n",
      "Prob(Omnibus):                  0.000   Jarque-Bera (JB):              328.330\n",
      "Skew:                          -0.232   Prob(JB):                     5.06e-72\n",
      "Kurtosis:                       7.159   Cond. No.                         1.00\n",
      "==============================================================================\n",
      "\n",
      "Notes:\n",
      "[1] R² is computed without centering (uncentered) since the model does not contain a constant.\n",
      "[2] Standard Errors assume that the covariance matrix of the errors is correctly specified.\n"
     ]
    }
   ],
   "source": [
    "## Extract the residual and run the AR(1) regression\n",
    "\n",
    "resid = result_diff.resid\n",
    "resid_lag = resid.groupby(\"county\").shift(1)\n",
    "result_AR_test = sm.OLS(resid, resid_lag, missing = 'drop').fit() \n",
    "print(result_AR_test.summary())"
   ]
  },
  {
   "cell_type": "markdown",
   "id": "4403f4c3-fefe-4afc-98d2-178878734563",
   "metadata": {},
   "source": [
    "## [ANS] "
   ]
  },
  {
   "cell_type": "markdown",
   "id": "419cea0c-d754-4edb-8b24-8da338540e40",
   "metadata": {},
   "source": [
    "We can reject the null hypothesis that the AR(1) coefficient is zero from the above table."
   ]
  },
  {
   "cell_type": "code",
   "execution_count": null,
   "id": "ed2a06d0-8c46-4916-9650-a7fd9693a722",
   "metadata": {},
   "outputs": [],
   "source": []
  }
 ],
 "metadata": {
  "kernelspec": {
   "display_name": "Python 3 (ipykernel)",
   "language": "python",
   "name": "python3"
  },
  "language_info": {
   "codemirror_mode": {
    "name": "ipython",
    "version": 3
   },
   "file_extension": ".py",
   "mimetype": "text/x-python",
   "name": "python",
   "nbconvert_exporter": "python",
   "pygments_lexer": "ipython3",
   "version": "3.9.7"
  }
 },
 "nbformat": 4,
 "nbformat_minor": 5
}
