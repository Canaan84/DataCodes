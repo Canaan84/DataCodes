{
 "cells": [
  {
   "cell_type": "code",
   "execution_count": 1,
   "id": "22d7520d-f58c-4d28-9424-c0d81bbe55da",
   "metadata": {},
   "outputs": [],
   "source": [
    "import numpy as np\n",
    "import pandas as pd\n",
    "import statsmodels.api as sm\n",
    "from statsmodels.iolib.summary2 import summary_col \n",
    "import scipy as sp\n",
    "from linearmodels import OLS\n",
    "from statsmodels.tsa.ar_model import AutoReg, ar_select_order"
   ]
  },
  {
   "cell_type": "markdown",
   "id": "4b8c579c-b3ef-4ffa-84fe-5c3a01fd74c0",
   "metadata": {},
   "source": [
    "## Problem 4"
   ]
  },
  {
   "cell_type": "code",
   "execution_count": 2,
   "id": "0bdfaca8-beec-492c-bfe0-9ba3025563b6",
   "metadata": {},
   "outputs": [
    {
     "data": {
      "text/html": [
       "<div>\n",
       "<style scoped>\n",
       "    .dataframe tbody tr th:only-of-type {\n",
       "        vertical-align: middle;\n",
       "    }\n",
       "\n",
       "    .dataframe tbody tr th {\n",
       "        vertical-align: top;\n",
       "    }\n",
       "\n",
       "    .dataframe thead th {\n",
       "        text-align: right;\n",
       "    }\n",
       "</style>\n",
       "<table border=\"1\" class=\"dataframe\">\n",
       "  <thead>\n",
       "    <tr style=\"text-align: right;\">\n",
       "      <th></th>\n",
       "      <th>gdpc1</th>\n",
       "      <th>pcecc96</th>\n",
       "      <th>pcdgx</th>\n",
       "      <th>pcesvx</th>\n",
       "      <th>pcndx</th>\n",
       "      <th>gpdic1</th>\n",
       "      <th>fpix</th>\n",
       "      <th>y033rc1q027sbeax</th>\n",
       "      <th>pnfix</th>\n",
       "      <th>prfix</th>\n",
       "      <th>...</th>\n",
       "      <th>tlbsnnbbdix</th>\n",
       "      <th>tabsnnbx</th>\n",
       "      <th>tnwbsnnbx</th>\n",
       "      <th>tnwbsnnbbdix</th>\n",
       "      <th>cncfx</th>\n",
       "      <th>sp500</th>\n",
       "      <th>spindust</th>\n",
       "      <th>spdivyield</th>\n",
       "      <th>spperatio</th>\n",
       "      <th>time</th>\n",
       "    </tr>\n",
       "  </thead>\n",
       "  <tbody>\n",
       "    <tr>\n",
       "      <th>0</th>\n",
       "      <td>3121.936035</td>\n",
       "      <td>1923.675049</td>\n",
       "      <td>76.626900</td>\n",
       "      <td>1228.252441</td>\n",
       "      <td>708.599426</td>\n",
       "      <td>340.604004</td>\n",
       "      <td>340.505005</td>\n",
       "      <td>49.278400</td>\n",
       "      <td>169.880295</td>\n",
       "      <td>229.222900</td>\n",
       "      <td>...</td>\n",
       "      <td>267125.59375</td>\n",
       "      <td>2292473.50</td>\n",
       "      <td>1977.079956</td>\n",
       "      <td>1674.500000</td>\n",
       "      <td>118.069702</td>\n",
       "      <td>55.516701</td>\n",
       "      <td>59.139999</td>\n",
       "      <td>3.1765</td>\n",
       "      <td>18.621099</td>\n",
       "      <td>1959-01-01</td>\n",
       "    </tr>\n",
       "    <tr>\n",
       "      <th>1</th>\n",
       "      <td>3192.379883</td>\n",
       "      <td>1953.384033</td>\n",
       "      <td>79.510696</td>\n",
       "      <td>1246.623657</td>\n",
       "      <td>714.457520</td>\n",
       "      <td>367.098999</td>\n",
       "      <td>351.034790</td>\n",
       "      <td>50.753399</td>\n",
       "      <td>174.763901</td>\n",
       "      <td>237.236404</td>\n",
       "      <td>...</td>\n",
       "      <td>273793.59375</td>\n",
       "      <td>2300611.00</td>\n",
       "      <td>1973.300049</td>\n",
       "      <td>1650.650024</td>\n",
       "      <td>119.546799</td>\n",
       "      <td>57.506699</td>\n",
       "      <td>61.586700</td>\n",
       "      <td>3.1012</td>\n",
       "      <td>19.289900</td>\n",
       "      <td>1959-04-01</td>\n",
       "    </tr>\n",
       "    <tr>\n",
       "      <th>2</th>\n",
       "      <td>3194.653076</td>\n",
       "      <td>1973.791016</td>\n",
       "      <td>81.048103</td>\n",
       "      <td>1263.512207</td>\n",
       "      <td>717.215881</td>\n",
       "      <td>343.390991</td>\n",
       "      <td>354.755096</td>\n",
       "      <td>52.406300</td>\n",
       "      <td>179.470993</td>\n",
       "      <td>232.791794</td>\n",
       "      <td>...</td>\n",
       "      <td>275597.46875</td>\n",
       "      <td>2300263.75</td>\n",
       "      <td>1964.479980</td>\n",
       "      <td>1612.369995</td>\n",
       "      <td>121.838402</td>\n",
       "      <td>58.730000</td>\n",
       "      <td>63.060001</td>\n",
       "      <td>3.0720</td>\n",
       "      <td>18.954399</td>\n",
       "      <td>1959-07-01</td>\n",
       "    </tr>\n",
       "    <tr>\n",
       "      <th>3</th>\n",
       "      <td>3203.759033</td>\n",
       "      <td>1976.014038</td>\n",
       "      <td>77.176003</td>\n",
       "      <td>1278.822876</td>\n",
       "      <td>721.633179</td>\n",
       "      <td>354.566986</td>\n",
       "      <td>350.640411</td>\n",
       "      <td>52.300201</td>\n",
       "      <td>178.970200</td>\n",
       "      <td>226.201401</td>\n",
       "      <td>...</td>\n",
       "      <td>255408.93750</td>\n",
       "      <td>2294996.00</td>\n",
       "      <td>1964.310059</td>\n",
       "      <td>1517.150024</td>\n",
       "      <td>129.473297</td>\n",
       "      <td>57.763302</td>\n",
       "      <td>62.020000</td>\n",
       "      <td>3.1572</td>\n",
       "      <td>17.822100</td>\n",
       "      <td>1959-10-01</td>\n",
       "    </tr>\n",
       "    <tr>\n",
       "      <th>4</th>\n",
       "      <td>3275.757080</td>\n",
       "      <td>1994.917969</td>\n",
       "      <td>79.658997</td>\n",
       "      <td>1290.439209</td>\n",
       "      <td>723.443970</td>\n",
       "      <td>390.209991</td>\n",
       "      <td>362.352295</td>\n",
       "      <td>54.119801</td>\n",
       "      <td>185.190506</td>\n",
       "      <td>233.161499</td>\n",
       "      <td>...</td>\n",
       "      <td>279155.40625</td>\n",
       "      <td>2316168.00</td>\n",
       "      <td>1972.790039</td>\n",
       "      <td>1603.829956</td>\n",
       "      <td>123.004799</td>\n",
       "      <td>56.276699</td>\n",
       "      <td>60.193298</td>\n",
       "      <td>3.3850</td>\n",
       "      <td>16.828400</td>\n",
       "      <td>1960-01-01</td>\n",
       "    </tr>\n",
       "  </tbody>\n",
       "</table>\n",
       "<p>5 rows × 249 columns</p>\n",
       "</div>"
      ],
      "text/plain": [
       "         gdpc1      pcecc96      pcdgx       pcesvx       pcndx      gpdic1  \\\n",
       "0  3121.936035  1923.675049  76.626900  1228.252441  708.599426  340.604004   \n",
       "1  3192.379883  1953.384033  79.510696  1246.623657  714.457520  367.098999   \n",
       "2  3194.653076  1973.791016  81.048103  1263.512207  717.215881  343.390991   \n",
       "3  3203.759033  1976.014038  77.176003  1278.822876  721.633179  354.566986   \n",
       "4  3275.757080  1994.917969  79.658997  1290.439209  723.443970  390.209991   \n",
       "\n",
       "         fpix  y033rc1q027sbeax       pnfix       prfix  ...   tlbsnnbbdix  \\\n",
       "0  340.505005         49.278400  169.880295  229.222900  ...  267125.59375   \n",
       "1  351.034790         50.753399  174.763901  237.236404  ...  273793.59375   \n",
       "2  354.755096         52.406300  179.470993  232.791794  ...  275597.46875   \n",
       "3  350.640411         52.300201  178.970200  226.201401  ...  255408.93750   \n",
       "4  362.352295         54.119801  185.190506  233.161499  ...  279155.40625   \n",
       "\n",
       "     tabsnnbx    tnwbsnnbx  tnwbsnnbbdix       cncfx      sp500   spindust  \\\n",
       "0  2292473.50  1977.079956   1674.500000  118.069702  55.516701  59.139999   \n",
       "1  2300611.00  1973.300049   1650.650024  119.546799  57.506699  61.586700   \n",
       "2  2300263.75  1964.479980   1612.369995  121.838402  58.730000  63.060001   \n",
       "3  2294996.00  1964.310059   1517.150024  129.473297  57.763302  62.020000   \n",
       "4  2316168.00  1972.790039   1603.829956  123.004799  56.276699  60.193298   \n",
       "\n",
       "   spdivyield  spperatio       time  \n",
       "0      3.1765  18.621099 1959-01-01  \n",
       "1      3.1012  19.289900 1959-04-01  \n",
       "2      3.0720  18.954399 1959-07-01  \n",
       "3      3.1572  17.822100 1959-10-01  \n",
       "4      3.3850  16.828400 1960-01-01  \n",
       "\n",
       "[5 rows x 249 columns]"
      ]
     },
     "execution_count": 2,
     "metadata": {},
     "output_type": "execute_result"
    }
   ],
   "source": [
    "df = pd.read_stata(\"FRED-QD.dta\")\n",
    "df.head()"
   ]
  },
  {
   "cell_type": "code",
   "execution_count": 6,
   "id": "a4dc0458-ea99-477b-b52a-3b013ce62d0f",
   "metadata": {},
   "outputs": [
    {
     "data": {
      "text/plain": [
       "0"
      ]
     },
     "execution_count": 6,
     "metadata": {},
     "output_type": "execute_result"
    }
   ],
   "source": [
    "df[\"oilpricex\"].isna().sum()"
   ]
  },
  {
   "cell_type": "code",
   "execution_count": 3,
   "id": "cbf011ae-079e-4a5c-92ef-2dc0c6850260",
   "metadata": {},
   "outputs": [
    {
     "name": "stdout",
     "output_type": "stream",
     "text": [
      "<class 'pandas.core.frame.DataFrame'>\n",
      "Int64Index: 236 entries, 0 to 235\n",
      "Columns: 249 entries, gdpc1 to time\n",
      "dtypes: datetime64[ns](1), float32(246), int16(1), int32(1)\n",
      "memory usage: 231.9 KB\n"
     ]
    }
   ],
   "source": [
    "df.info()"
   ]
  },
  {
   "cell_type": "markdown",
   "id": "65d6a97c-4796-4e27-808e-fa90a22fdb89",
   "metadata": {},
   "source": [
    "## (a)"
   ]
  },
  {
   "cell_type": "code",
   "execution_count": 4,
   "id": "4cf9f3ea-8721-4a84-8237-1409d9802375",
   "metadata": {},
   "outputs": [
    {
     "data": {
      "text/plain": [
       "1   -0.213600\n",
       "2   -0.117300\n",
       "3   -0.100201\n",
       "4   -0.054699\n",
       "5   -0.065802\n",
       "Name: oilpricex, dtype: float32"
      ]
     },
     "execution_count": 4,
     "metadata": {},
     "output_type": "execute_result"
    }
   ],
   "source": [
    "## Transform the series by taking first differences\n",
    "\n",
    "oilPrice = df[\"oilpricex\"]\n",
    "oilPrice_diff = oilPrice.diff(1).dropna()\n",
    "oilPrice_diff.head()"
   ]
  },
  {
   "cell_type": "markdown",
   "id": "db8d15cb-91e2-486d-b311-5cec6c0735a0",
   "metadata": {},
   "source": [
    "## (b)"
   ]
  },
  {
   "cell_type": "code",
   "execution_count": 5,
   "id": "49d59b63-0fde-48c4-9c0f-855fead67935",
   "metadata": {},
   "outputs": [
    {
     "name": "stdout",
     "output_type": "stream",
     "text": [
      "                            OLS Regression Results                            \n",
      "==============================================================================\n",
      "Dep. Variable:              oilpricex   R-squared:                       0.107\n",
      "Model:                            OLS   Adj. R-squared:                  0.091\n",
      "Method:                 Least Squares   F-statistic:                     4.368\n",
      "Date:                Thu, 07 Apr 2022   Prob (F-statistic):            0.00202\n",
      "Time:                        08:48:35   Log-Likelihood:                -773.31\n",
      "No. Observations:                 231   AIC:                             1557.\n",
      "Df Residuals:                     226   BIC:                             1574.\n",
      "Df Model:                           4                                         \n",
      "Covariance Type:                  HAC                                         \n",
      "================================================================================\n",
      "                   coef    std err          z      P>|z|      [0.025      0.975]\n",
      "--------------------------------------------------------------------------------\n",
      "const            0.1491      0.440      0.339      0.735      -0.713       1.011\n",
      "oilpricex_d1     0.2737      0.090      3.042      0.002       0.097       0.450\n",
      "oilpricex_d2    -0.2589      0.177     -1.463      0.144      -0.606       0.088\n",
      "oilpricex_d3     0.0262      0.066      0.396      0.692      -0.103       0.156\n",
      "oilpricex_d4    -0.0723      0.120     -0.602      0.547      -0.308       0.163\n",
      "==============================================================================\n",
      "Omnibus:                      140.731   Durbin-Watson:                   2.015\n",
      "Prob(Omnibus):                  0.000   Jarque-Bera (JB):             3031.584\n",
      "Skew:                          -1.904   Prob(JB):                         0.00\n",
      "Kurtosis:                      20.334   Cond. No.                         8.50\n",
      "==============================================================================\n",
      "\n",
      "Notes:\n",
      "[1] Standard Errors are heteroscedasticity and autocorrelation robust (HAC) using 4 lags and without small sample correction\n"
     ]
    }
   ],
   "source": [
    "## Create a dataframe for lagged oil prices\n",
    "\n",
    "exog = [oilPrice_diff.shift(1), oilPrice_diff.shift(2), oilPrice_diff.shift(3), oilPrice_diff.shift(4)]\n",
    "exog = pd.concat([oilPrice_diff.shift(1), oilPrice_diff.shift(2), oilPrice_diff.shift(3), oilPrice_diff.shift(4)], axis=1)\n",
    "exog.columns = ['oilpricex_d1', 'oilpricex_d2', 'oilpricex_d3', 'oilpricex_d4']\n",
    "exog[\"const\"] = 1\n",
    "exog = exog.iloc[:, [4, 0, 1, 2, 3]]\n",
    "\n",
    "## Estimate an AR(4) by OLS with heterokesdacity covarance matrix\n",
    "\n",
    "mod = sm.OLS(endog=oilPrice_diff, exog=exog, missing=\"drop\")\n",
    "result1 = mod.fit(cov_type='HAC', cov_kwds={'maxlags':4})\n",
    "print(result1.summary())"
   ]
  },
  {
   "cell_type": "code",
   "execution_count": 6,
   "id": "bb58a55e-2e9e-4af6-b7bf-afbc8fe53a65",
   "metadata": {},
   "outputs": [
    {
     "name": "stdout",
     "output_type": "stream",
     "text": [
      "                            AutoReg Model Results                             \n",
      "==============================================================================\n",
      "Dep. Variable:              oilpricex   No. Observations:                  235\n",
      "Model:                     AutoReg(4)   Log Likelihood                -773.314\n",
      "Method:               Conditional MLE   S.D. of innovations              6.881\n",
      "Date:                Thu, 07 Apr 2022   AIC                              3.909\n",
      "Time:                        08:48:35   BIC                              3.999\n",
      "Sample:                             4   HQIC                             3.945\n",
      "                                  235                                         \n",
      "================================================================================\n",
      "                   coef    std err          z      P>|z|      [0.025      0.975]\n",
      "--------------------------------------------------------------------------------\n",
      "const            0.1491      0.440      0.339      0.735      -0.713       1.011\n",
      "oilpricex.L1     0.2737      0.090      3.042      0.002       0.097       0.450\n",
      "oilpricex.L2    -0.2589      0.177     -1.463      0.144      -0.606       0.088\n",
      "oilpricex.L3     0.0262      0.066      0.396      0.692      -0.103       0.156\n",
      "oilpricex.L4    -0.0723      0.120     -0.602      0.547      -0.308       0.163\n",
      "                                    Roots                                    \n",
      "=============================================================================\n",
      "                  Real          Imaginary           Modulus         Frequency\n",
      "-----------------------------------------------------------------------------\n",
      "AR.1            1.0890           -1.4057j            1.7782           -0.1451\n",
      "AR.2            1.0890           +1.4057j            1.7782            0.1451\n",
      "AR.3           -0.9081           -1.8843j            2.0917           -0.3215\n",
      "AR.4           -0.9081           +1.8843j            2.0917            0.3215\n",
      "-----------------------------------------------------------------------------\n"
     ]
    },
    {
     "name": "stderr",
     "output_type": "stream",
     "text": [
      "/Users/jhongyihuang/opt/anaconda3/lib/python3.9/site-packages/statsmodels/tsa/base/tsa_model.py:578: ValueWarning: An unsupported index was provided and will be ignored when e.g. forecasting.\n",
      "  warnings.warn('An unsupported index was provided and will be'\n"
     ]
    }
   ],
   "source": [
    "## Estimate an AR(4) by Conditional MLE with heterokesdacity covarance matrix\n",
    "\n",
    "mod = AutoReg(oilPrice_diff, 4, old_names=False)\n",
    "result2 = mod.fit(cov_type='HAC', cov_kwds={'maxlags':4})\n",
    "print(result2.summary())"
   ]
  },
  {
   "cell_type": "markdown",
   "id": "9192a56f-1d42-4db7-b9ac-74d45aad03b6",
   "metadata": {},
   "source": [
    "## (c)"
   ]
  },
  {
   "cell_type": "code",
   "execution_count": 7,
   "id": "13409655-918f-473b-a3dd-99ef40ff16bc",
   "metadata": {},
   "outputs": [],
   "source": [
    "## Do the Wald-Test for the coefficients (OLS & Conditional MLE)\n",
    "\n",
    "hypothesis1 = 'oilpricex_d1 = oilpricex_d2 = oilpricex_d3 = oilpricex_d4 = 0'\n",
    "hypothesis2 = 'oilpricex.L1 = oilpricex.L2 = oilpricex.L3 = oilpricex.L4 = 0'\n",
    "\n",
    "\n",
    "test1 = result1.wald_test(hypothesis1)\n",
    "test2 = result2.wald_test(hypothesis2)"
   ]
  },
  {
   "cell_type": "code",
   "execution_count": 8,
   "id": "57bb356c-b886-4db1-9f79-bb2db09aea16",
   "metadata": {},
   "outputs": [
    {
     "name": "stdout",
     "output_type": "stream",
     "text": [
      "<Wald test (chi2): statistic=[[17.47259673]], p-value=0.0015641114733183064, df_denom=4>\n"
     ]
    }
   ],
   "source": [
    "## Test resut for OLS\n",
    "print(test1)"
   ]
  },
  {
   "cell_type": "code",
   "execution_count": 9,
   "id": "5bb959cb-084d-4c5a-b7b4-3f8225c8bb71",
   "metadata": {},
   "outputs": [
    {
     "name": "stdout",
     "output_type": "stream",
     "text": [
      "<Wald test (chi2): statistic=[[17.47259673]], p-value=0.0015641114733183162, df_denom=4>\n"
     ]
    }
   ],
   "source": [
    "## Test resut for Conditional MLE\n",
    "print(test2)"
   ]
  },
  {
   "cell_type": "markdown",
   "id": "a1d60af7-a469-4a07-b5fa-80d6849ac859",
   "metadata": {},
   "source": [
    "## (d)"
   ]
  },
  {
   "cell_type": "markdown",
   "id": "88057ca2-5b7c-44fb-bc2f-9f0335b8c686",
   "metadata": {},
   "source": [
    "Observing the above join test results, we can find that we need to reject the hypothesis the four AR coefficients are equal to zero under 0.01 significant level.\n",
    "Furthermore, from the regression tables, we can make sure the only the one-period lagaaed coefficient is significant under 0.01 significant level. \n",
    "That is, we may need to consider an AR(1) instead of an AR(4).\n",
    "Notice that this conclusion is quite robust since we have the very close regression tables by applying OLS and Conditional MLE."
   ]
  },
  {
   "cell_type": "code",
   "execution_count": null,
   "id": "c96e1fc5-c6cd-40ad-b217-7c6e4b50a6af",
   "metadata": {},
   "outputs": [],
   "source": []
  }
 ],
 "metadata": {
  "kernelspec": {
   "display_name": "Python 3 (ipykernel)",
   "language": "python",
   "name": "python3"
  },
  "language_info": {
   "codemirror_mode": {
    "name": "ipython",
    "version": 3
   },
   "file_extension": ".py",
   "mimetype": "text/x-python",
   "name": "python",
   "nbconvert_exporter": "python",
   "pygments_lexer": "ipython3",
   "version": "3.9.7"
  }
 },
 "nbformat": 4,
 "nbformat_minor": 5
}
